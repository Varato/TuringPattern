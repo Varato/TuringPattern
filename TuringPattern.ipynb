{
 "cells": [
  {
   "cell_type": "code",
   "execution_count": 1,
   "id": "9d3ad7ff-86e6-4d85-b29f-49c150a56396",
   "metadata": {},
   "outputs": [],
   "source": [
    "%matplotlib inline\n",
    "\n",
    "import numpy as np\n",
    "import matplotlib.pyplot as plt"
   ]
  },
  {
   "cell_type": "code",
   "execution_count": 8,
   "id": "d947f6d1-4810-4dc2-b188-cd45e9b97995",
   "metadata": {},
   "outputs": [],
   "source": [
    "def laplacian(a: np.ndarray, bc: str = \"periodic\") -> np.ndarray:\n",
    "    assert a.ndim == 2, \"a must be a 2D array\"\n",
    "    if bc == \"periodic\":\n",
    "        a0 = np.roll(a, shift=1, axis=0)\n",
    "        a1 = np.roll(a, shift=-1, axis=0)\n",
    "        a2 = np.roll(a, shift=1, axis=1)\n",
    "        a3 = np.roll(a, shift=-1, axis=1)\n",
    "\n",
    "        a_mean = 0.25 * (a0 + a1 + a2 + a3)\n",
    "        return a_mean - a\n",
    "    else:\n",
    "        raise NotImplementedError"
   ]
  },
  {
   "cell_type": "markdown",
   "id": "cf6f2507-d53d-4245-9449-ad4a9b21a6bf",
   "metadata": {},
   "source": [
    "https://visualpde.com/sim/?preset=GrayScott"
   ]
  },
  {
   "cell_type": "code",
   "execution_count": 10,
   "id": "e5831440-3f66-4c0c-b63d-7c64553b358a",
   "metadata": {},
   "outputs": [],
   "source": [
    "class GrayScoot:\n",
    "    def __init__(self, height: int, width: int, a: float, b: float, alpha: float=2):\n",
    "        self.u = np.zeros([height, width])\n",
    "        self.v = np.zeros([height, width])\n",
    "        self.a = a\n",
    "        self.b = b\n",
    "        self.alpha = alpha\n",
    "\n",
    "    def update(self):\n",
    "        # 2U + V -> 3U\n",
    "        lu = laplacian(self.u)\n",
    "        lv = laplacian(self.v)\n",
    "        \n",
    "        u2v = self.u * self.u * self.v\n",
    "        du = lu + u2v - (self.a + self.b) * self.u\n",
    "        dv = self.alpha * lv - u2v + self.a * (1 - self.v)\n",
    "        \n",
    "        self.u += du\n",
    "        self.v += dv\n"
   ]
  },
  {
   "cell_type": "code",
   "execution_count": null,
   "id": "edb6aeb8-ae79-43c6-9743-2376ea2acb9a",
   "metadata": {},
   "outputs": [],
   "source": []
  }
 ],
 "metadata": {
  "kernelspec": {
   "display_name": "Python 3 (ipykernel)",
   "language": "python",
   "name": "python3"
  },
  "language_info": {
   "codemirror_mode": {
    "name": "ipython",
    "version": 3
   },
   "file_extension": ".py",
   "mimetype": "text/x-python",
   "name": "python",
   "nbconvert_exporter": "python",
   "pygments_lexer": "ipython3",
   "version": "3.12.3"
  }
 },
 "nbformat": 4,
 "nbformat_minor": 5
}
